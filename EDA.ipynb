{
  "nbformat": 4,
  "nbformat_minor": 0,
  "metadata": {
    "colab": {
      "provenance": [],
      "history_visible": true,
      "mount_file_id": "1cw2b5kJGxApsCHLrL63K7Pq6_PPf8aRG",
      "authorship_tag": "ABX9TyPCbY72kEJCRvT0017uhd7e",
      "include_colab_link": true
    },
    "kernelspec": {
      "name": "python3",
      "display_name": "Python 3"
    },
    "language_info": {
      "name": "python"
    }
  },
  "cells": [
    {
      "cell_type": "markdown",
      "metadata": {
        "id": "view-in-github",
        "colab_type": "text"
      },
      "source": [
        "<a href=\"https://colab.research.google.com/github/vipulgote1999/Assignment_GIBots_Pune/blob/main/EDA.ipynb\" target=\"_parent\"><img src=\"https://colab.research.google.com/assets/colab-badge.svg\" alt=\"Open In Colab\"/></a>"
      ]
    },
    {
      "cell_type": "code",
      "execution_count": 1,
      "metadata": {
        "id": "WeFdOllzSCWn"
      },
      "outputs": [],
      "source": [
        "import pandas as pd\n",
        "import numpy as np\n",
        "import os, time,json,sys\n",
        "from datetime import datetime"
      ]
    },
    {
      "cell_type": "code",
      "source": [
        "!cp \"/content/drive/MyDrive/Assignment data/GI Bots/DATA  Scientist Assignment.zip\" \"/content/\""
      ],
      "metadata": {
        "id": "tF1JGgZCSPgi"
      },
      "execution_count": 4,
      "outputs": []
    },
    {
      "cell_type": "code",
      "source": [
        "!unzip \"/content/DATA  Scientist Assignment.zip\""
      ],
      "metadata": {
        "colab": {
          "base_uri": "https://localhost:8080/"
        },
        "id": "O1dw1x2TTETY",
        "outputId": "476d91ba-be38-42fc-8321-1f3da3f143fd"
      },
      "execution_count": 5,
      "outputs": [
        {
          "output_type": "stream",
          "name": "stdout",
          "text": [
            "Archive:  /content/DATA  Scientist Assignment.zip\n",
            "  inflating: test.csv                \n",
            "  inflating: trainLabels.csv         \n",
            "   creating: __MACOSX/\n",
            "  inflating: __MACOSX/._trainLabels.csv  \n",
            "  inflating: train.csv               \n",
            "  inflating: __MACOSX/._train.csv    \n",
            "  inflating: sampleSubmission_small.csv  \n",
            "  inflating: __MACOSX/._sampleSubmission_small.csv  \n"
          ]
        }
      ]
    },
    {
      "cell_type": "code",
      "source": [
        "train_data ="
      ],
      "metadata": {
        "id": "PcmLTfFdTOM8"
      },
      "execution_count": null,
      "outputs": []
    }
  ]
}