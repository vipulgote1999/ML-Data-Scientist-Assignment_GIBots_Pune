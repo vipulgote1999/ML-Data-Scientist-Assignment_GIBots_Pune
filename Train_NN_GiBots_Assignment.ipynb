{
  "cells": [
    {
      "cell_type": "markdown",
      "metadata": {
        "id": "view-in-github",
        "colab_type": "text"
      },
      "source": [
        "<a href=\"https://colab.research.google.com/github/vipulgote1999/Assignment_GIBots_Pune/blob/main/Train_NN_GiBots_Assignment.ipynb\" target=\"_parent\"><img src=\"https://colab.research.google.com/assets/colab-badge.svg\" alt=\"Open In Colab\"/></a>"
      ]
    },
    {
      "cell_type": "code",
      "source": [
        "%%capture\n",
        "!pip install wandb"
      ],
      "metadata": {
        "id": "_ZWXZnekvYeI"
      },
      "execution_count": null,
      "outputs": []
    },
    {
      "cell_type": "code",
      "source": [
        "import wandb\n",
        "from wandb.keras import WandbMetricsLogger\n"
      ],
      "metadata": {
        "id": "ZiwEVf8Cvxqz"
      },
      "execution_count": null,
      "outputs": []
    },
    {
      "cell_type": "code",
      "source": [
        "wandb.login()"
      ],
      "metadata": {
        "colab": {
          "base_uri": "https://localhost:8080/"
        },
        "id": "WLHniOFKv0ZF",
        "outputId": "ce5d1746-fc89-4f09-d2d0-df9f1ff5582b"
      },
      "execution_count": null,
      "outputs": [
        {
          "output_type": "stream",
          "name": "stderr",
          "text": [
            "\u001b[34m\u001b[1mwandb\u001b[0m: Currently logged in as: \u001b[33mvipulgote4\u001b[0m (\u001b[33mexistence\u001b[0m). Use \u001b[1m`wandb login --relogin`\u001b[0m to force relogin\n"
          ]
        },
        {
          "output_type": "execute_result",
          "data": {
            "text/plain": [
              "True"
            ]
          },
          "metadata": {},
          "execution_count": 3
        }
      ]
    },
    {
      "cell_type": "code",
      "execution_count": null,
      "metadata": {
        "id": "vBVZ-DLwb_mP"
      },
      "outputs": [],
      "source": [
        "import pandas as pd\n",
        "import numpy as np\n",
        "import os, time,json,sys,random,warnings\n",
        "from sklearn.preprocessing import StandardScaler, OneHotEncoder\n",
        "from sklearn.compose import ColumnTransformer\n",
        "from sklearn.impute import SimpleImputer\n",
        "from sklearn.pipeline import Pipeline\n",
        "from sklearn.compose import make_column_selector\n",
        "from sklearn.preprocessing import StandardScaler\n",
        "import keras"
      ]
    },
    {
      "cell_type": "code",
      "execution_count": null,
      "metadata": {
        "id": "apwy3c7BcBqT"
      },
      "outputs": [],
      "source": [
        "warnings.simplefilter(\"ignore\")\n",
        "random.seed(42)\n",
        "np.random.seed(42)\n",
        "pd.set_option('display.max_columns', None)"
      ]
    },
    {
      "cell_type": "code",
      "execution_count": null,
      "metadata": {
        "id": "YCh7Ybw8cNH8"
      },
      "outputs": [],
      "source": [
        "!cp \"/content/drive/MyDrive/Assignment data/GI Bots/DATA  Scientist Assignment.zip\" /content/"
      ]
    },
    {
      "cell_type": "code",
      "execution_count": null,
      "metadata": {
        "colab": {
          "base_uri": "https://localhost:8080/"
        },
        "id": "cLcBYdlocUlD",
        "outputId": "d585f89c-fef5-4701-8317-320f268ae870"
      },
      "outputs": [
        {
          "output_type": "stream",
          "name": "stdout",
          "text": [
            "Archive:  /content/DATA  Scientist Assignment.zip\n",
            "replace test.csv? [y]es, [n]o, [A]ll, [N]one, [r]ename: "
          ]
        }
      ],
      "source": [
        "!unzip \"/content/DATA  Scientist Assignment.zip\""
      ]
    },
    {
      "cell_type": "code",
      "execution_count": null,
      "metadata": {
        "id": "Etx-gWyvcbJD"
      },
      "outputs": [],
      "source": [
        "train =pd.read_csv(\"/content/train.csv\")\n",
        "train_labels = pd.read_csv(\"/content/trainLabels.csv\")\n",
        "train_labels.drop(\"id\", axis=1,inplace=True)\n",
        "test_data = pd.read_csv(\"/content/test.csv\")\n",
        "test_data.columns = train.columns"
      ]
    },
    {
      "cell_type": "code",
      "execution_count": null,
      "metadata": {
        "id": "hcmAg50wcIcE"
      },
      "outputs": [],
      "source": [
        "numerical_transformer = Pipeline(steps=[\n",
        "    ('imputer', SimpleImputer(strategy='mean')),  #'mean', 'median', or 'most_frequent'\n",
        "    ('scaler', StandardScaler())\n",
        "])\n",
        "\n",
        "categorical_transformer = Pipeline(steps=[\n",
        "    ('imputer', SimpleImputer(strategy='most_frequent')),\n",
        "    ('onehot', OneHotEncoder(handle_unknown='ignore'))\n",
        "])\n",
        "\n",
        "# bool_transformer = Pipeline(steps=[\n",
        "#     ('imputer',KNNImputer())\n",
        "# ])\n",
        "\n",
        "# here we are preprocessing  numerical and categorical features\n",
        "preprocessor = ColumnTransformer(transformers=[\n",
        "        ('num', numerical_transformer, make_column_selector(dtype_include=np.number)),\n",
        "        ('cat', categorical_transformer, make_column_selector(dtype_include=object))\n",
        "    ], remainder='passthrough',n_jobs=-1)\n",
        "\n",
        "X = train\n",
        "y=train_labels[:9999]"
      ]
    },
    {
      "cell_type": "code",
      "execution_count": null,
      "metadata": {
        "id": "s05fjQd3cKor"
      },
      "outputs": [],
      "source": [
        "# X_train = pd.DataFrame(preprocessor.fit_transform(train).toarray())\n",
        "# # y_train = preprocessor.transform(y_train)\n",
        "\n",
        "# X_train.to_csv(\"Processed_train.csv\")"
      ]
    },
    {
      "cell_type": "markdown",
      "source": [
        "# Train a model\n"
      ],
      "metadata": {
        "id": "ZMA9SgArzWT7"
      }
    },
    {
      "cell_type": "code",
      "source": [
        "!pip install -qq tensorflow_addons numba"
      ],
      "metadata": {
        "id": "1Bi-nEaZ64b6"
      },
      "execution_count": null,
      "outputs": []
    },
    {
      "cell_type": "code",
      "execution_count": null,
      "metadata": {
        "id": "LaIGvHUIcuuO"
      },
      "outputs": [],
      "source": [
        "from tensorflow.keras.models import Sequential\n",
        "from tensorflow.keras.layers import Dense, Dropout\n",
        "from tensorflow.keras.callbacks import EarlyStopping\n",
        "from sklearn.preprocessing import StandardScaler\n",
        "from tensorflow_addons.metrics import F1Score\n",
        "import tensorflow as tf"
      ]
    },
    {
      "cell_type": "code",
      "source": [
        "from sklearn.model_selection import train_test_split\n",
        "X_train, X_val, y_train, y_val = train_test_split(X, y, test_size=0.2, random_state=42)"
      ],
      "metadata": {
        "id": "hIJA0dXNzdRv"
      },
      "execution_count": null,
      "outputs": []
    },
    {
      "cell_type": "code",
      "source": [
        "# preprocessor.fit(X_train)\n",
        "X_train = preprocessor.fit_transform(X_train)\n",
        "# y_train = preprocessor.fit_transform(y_train)"
      ],
      "metadata": {
        "id": "Bdy-N7OPziIB"
      },
      "execution_count": null,
      "outputs": []
    },
    {
      "cell_type": "code",
      "source": [
        "X_train.shape, y_train.shape"
      ],
      "metadata": {
        "colab": {
          "base_uri": "https://localhost:8080/"
        },
        "id": "qc0-LRU_1znM",
        "outputId": "8a6c8b3a-f214-472a-b200-a7c0d3e89bd4"
      },
      "execution_count": null,
      "outputs": [
        {
          "output_type": "execute_result",
          "data": {
            "text/plain": [
              "((7999, 29067), (7999, 33))"
            ]
          },
          "metadata": {},
          "execution_count": 15
        }
      ]
    },
    {
      "cell_type": "code",
      "source": [
        "X_train"
      ],
      "metadata": {
        "colab": {
          "base_uri": "https://localhost:8080/"
        },
        "id": "rDTYkFhH2N0J",
        "outputId": "73ce5ada-8336-4108-a209-92bc0d7c6ab1"
      },
      "execution_count": null,
      "outputs": [
        {
          "output_type": "execute_result",
          "data": {
            "text/plain": [
              "<7999x29067 sparse matrix of type '<class 'numpy.float64'>'\n",
              "\twith 1167854 stored elements in Compressed Sparse Row format>"
            ]
          },
          "metadata": {},
          "execution_count": 16
        }
      ]
    },
    {
      "cell_type": "code",
      "source": [
        "def scheduler(epoch, lr):\n",
        "  if epoch < 10:\n",
        "    return lr\n",
        "  else:\n",
        "    return lr * tf.exp(-0.1)"
      ],
      "metadata": {
        "id": "XlKkm9jO3uEH"
      },
      "execution_count": null,
      "outputs": []
    },
    {
      "cell_type": "code",
      "source": [
        "# from numba import cuda\n",
        "# device = cuda.get_current_device()\n",
        "# device.reset()\n",
        "\n",
        "model = Sequential()\n",
        "model.add(tf.keras.Input(shape=(X_train.shape[1],),sparse=True))\n",
        "model.add(Dense(512, activation='relu',kernel_regularizer='l2',kernel_initializer='uniform'))\n",
        "model.add(Dropout(0.1))\n",
        "model.add(Dense(512, activation='relu'))\n",
        "model.add(Dropout(0.1))\n",
        "model.add(Dense(256, activation='relu',kernel_initializer='uniform',kernel_regularizer='l1_l2'))\n",
        "model.add(Dropout(0.2))\n",
        "# model.add(Dense(64, activation='relu'))\n",
        "model.add(Dense(33, activation='sigmoid'))\n",
        "\n",
        "adamw_opt = keras.optimizers.AdamW(learning_rate=0.01)\n",
        "opt = keras.optimizers.Adam(learning_rate=0.01)\n",
        "\n",
        "model.compile(loss=\"binary_crossentropy\",# optimizer=adamw_opt,\n",
        "              optimizer=opt,\n",
        "              metrics=['accuracy'])\n",
        "\n",
        "# Early stopping\n",
        "early_stopping = EarlyStopping(patience=10,restore_best_weights=True)\n",
        "lr_callback = keras.callbacks.LearningRateScheduler(scheduler)\n",
        "\n",
        "ReduceLROnPlatea_lr = keras.callbacks.ReduceLROnPlateau(monitor='val_loss',\n",
        "                              patience=3, min_lr=0.0001)\n",
        "\n",
        "run = wandb.init(\n",
        "    project = \"GiBots-finetune\"\n",
        ")\n",
        "# model.fit(X_train, y_train, epochs=5, batch_size=32, validation_split=0.2, callbacks=[early_stopping])\n",
        "model.fit(X_train.todense(), y_train.values, epochs=100, batch_size=32,validation_split=0.2, callbacks=[early_stopping,ReduceLROnPlatea_lr,WandbMetricsLogger(log_freq=10,)])\n",
        "\n",
        "run.finish()"
      ],
      "metadata": {
        "colab": {
          "base_uri": "https://localhost:8080/",
          "height": 1000,
          "referenced_widgets": [
            "572b10d4b3344a888f9dca6ec7689870",
            "7b09c278063f4c9ba8e70c2d0551454b",
            "3f86382a90764cd88a3c932f111e8ab6",
            "3b6c7bdc09fe45ebbd1c8b98ad4bfa2a",
            "bae3b4845eed485bb8d3abca87c835d2",
            "bd796905b1e04b7cb0d75f803c86023f",
            "994b40388fdf485b9ab69495fa765a7d",
            "58367a160b72474a880c1fd2af3bf452"
          ]
        },
        "id": "HRMDy5J2zaG1",
        "outputId": "71bfc53e-1cce-4e52-d3e7-10cdb2305be9"
      },
      "execution_count": 46,
      "outputs": [
        {
          "output_type": "display_data",
          "data": {
            "text/plain": [
              "<IPython.core.display.HTML object>"
            ],
            "text/html": [
              "Tracking run with wandb version 0.16.2"
            ]
          },
          "metadata": {}
        },
        {
          "output_type": "display_data",
          "data": {
            "text/plain": [
              "<IPython.core.display.HTML object>"
            ],
            "text/html": [
              "Run data is saved locally in <code>/content/wandb/run-20240110_151245-7h0oi9ty</code>"
            ]
          },
          "metadata": {}
        },
        {
          "output_type": "display_data",
          "data": {
            "text/plain": [
              "<IPython.core.display.HTML object>"
            ],
            "text/html": [
              "Syncing run <strong><a href='https://wandb.ai/existence/GiBots-finetune/runs/7h0oi9ty' target=\"_blank\">morning-smoke-9</a></strong> to <a href='https://wandb.ai/existence/GiBots-finetune' target=\"_blank\">Weights & Biases</a> (<a href='https://wandb.me/run' target=\"_blank\">docs</a>)<br/>"
            ]
          },
          "metadata": {}
        },
        {
          "output_type": "display_data",
          "data": {
            "text/plain": [
              "<IPython.core.display.HTML object>"
            ],
            "text/html": [
              " View project at <a href='https://wandb.ai/existence/GiBots-finetune' target=\"_blank\">https://wandb.ai/existence/GiBots-finetune</a>"
            ]
          },
          "metadata": {}
        },
        {
          "output_type": "display_data",
          "data": {
            "text/plain": [
              "<IPython.core.display.HTML object>"
            ],
            "text/html": [
              " View run at <a href='https://wandb.ai/existence/GiBots-finetune/runs/7h0oi9ty' target=\"_blank\">https://wandb.ai/existence/GiBots-finetune/runs/7h0oi9ty</a>"
            ]
          },
          "metadata": {}
        },
        {
          "output_type": "stream",
          "name": "stdout",
          "text": [
            "Epoch 1/100\n",
            "200/200 [==============================] - 5s 18ms/step - loss: 4.8521 - accuracy: 0.5476 - val_loss: 1.7429 - val_accuracy: 0.5688 - lr: 0.0100\n",
            "Epoch 2/100\n",
            "200/200 [==============================] - 4s 18ms/step - loss: 1.7727 - accuracy: 0.5599 - val_loss: 1.8558 - val_accuracy: 0.5688 - lr: 0.0100\n",
            "Epoch 3/100\n",
            "200/200 [==============================] - 4s 19ms/step - loss: 1.7687 - accuracy: 0.5599 - val_loss: 1.7775 - val_accuracy: 0.5688 - lr: 0.0100\n",
            "Epoch 4/100\n",
            "200/200 [==============================] - 4s 21ms/step - loss: 1.7608 - accuracy: 0.5599 - val_loss: 1.7260 - val_accuracy: 0.5688 - lr: 0.0100\n",
            "Epoch 5/100\n",
            "200/200 [==============================] - 5s 23ms/step - loss: 1.7402 - accuracy: 0.5599 - val_loss: 1.8723 - val_accuracy: 0.5688 - lr: 0.0100\n",
            "Epoch 6/100\n",
            "200/200 [==============================] - 4s 19ms/step - loss: 1.7620 - accuracy: 0.5599 - val_loss: 1.6651 - val_accuracy: 0.5688 - lr: 0.0100\n",
            "Epoch 7/100\n",
            "200/200 [==============================] - 3s 13ms/step - loss: 1.7329 - accuracy: 0.5607 - val_loss: 1.7868 - val_accuracy: 0.5688 - lr: 0.0100\n",
            "Epoch 8/100\n",
            "200/200 [==============================] - 2s 11ms/step - loss: 1.7358 - accuracy: 0.5623 - val_loss: 1.7989 - val_accuracy: 0.5925 - lr: 0.0100\n",
            "Epoch 9/100\n",
            "200/200 [==============================] - 2s 11ms/step - loss: 1.7317 - accuracy: 0.5631 - val_loss: 1.7306 - val_accuracy: 0.5688 - lr: 0.0100\n",
            "Epoch 10/100\n",
            "200/200 [==============================] - 2s 12ms/step - loss: 0.3218 - accuracy: 0.5727 - val_loss: 0.2488 - val_accuracy: 0.6094 - lr: 1.0000e-03\n",
            "Epoch 11/100\n",
            "200/200 [==============================] - 3s 14ms/step - loss: 0.2484 - accuracy: 0.5929 - val_loss: 0.2511 - val_accuracy: 0.6181 - lr: 1.0000e-03\n",
            "Epoch 12/100\n",
            "200/200 [==============================] - 3s 14ms/step - loss: 0.2474 - accuracy: 0.5890 - val_loss: 0.2516 - val_accuracy: 0.6206 - lr: 1.0000e-03\n",
            "Epoch 13/100\n",
            "200/200 [==============================] - 2s 11ms/step - loss: 0.2420 - accuracy: 0.5942 - val_loss: 0.2509 - val_accuracy: 0.6219 - lr: 1.0000e-03\n",
            "Epoch 14/100\n",
            "200/200 [==============================] - 2s 12ms/step - loss: 0.1061 - accuracy: 0.5995 - val_loss: 0.0945 - val_accuracy: 0.6219 - lr: 1.0000e-04\n",
            "Epoch 15/100\n",
            "200/200 [==============================] - 2s 11ms/step - loss: 0.0982 - accuracy: 0.5934 - val_loss: 0.0947 - val_accuracy: 0.6219 - lr: 1.0000e-04\n",
            "Epoch 16/100\n",
            "200/200 [==============================] - 2s 12ms/step - loss: 0.0976 - accuracy: 0.6024 - val_loss: 0.0944 - val_accuracy: 0.6225 - lr: 1.0000e-04\n",
            "Epoch 17/100\n",
            "200/200 [==============================] - 3s 14ms/step - loss: 0.0977 - accuracy: 0.5995 - val_loss: 0.0936 - val_accuracy: 0.6237 - lr: 1.0000e-04\n",
            "Epoch 18/100\n",
            "200/200 [==============================] - 3s 14ms/step - loss: 0.0975 - accuracy: 0.5984 - val_loss: 0.0949 - val_accuracy: 0.6237 - lr: 1.0000e-04\n",
            "Epoch 19/100\n",
            "200/200 [==============================] - 2s 12ms/step - loss: 0.0973 - accuracy: 0.5990 - val_loss: 0.0944 - val_accuracy: 0.6206 - lr: 1.0000e-04\n",
            "Epoch 20/100\n",
            "200/200 [==============================] - 2s 12ms/step - loss: 0.0974 - accuracy: 0.5976 - val_loss: 0.0943 - val_accuracy: 0.6225 - lr: 1.0000e-04\n",
            "Epoch 21/100\n",
            "200/200 [==============================] - 2s 11ms/step - loss: 0.0971 - accuracy: 0.6004 - val_loss: 0.0945 - val_accuracy: 0.6194 - lr: 1.0000e-04\n",
            "Epoch 22/100\n",
            "200/200 [==============================] - 3s 13ms/step - loss: 0.0972 - accuracy: 0.6004 - val_loss: 0.0946 - val_accuracy: 0.6237 - lr: 1.0000e-04\n",
            "Epoch 23/100\n",
            "200/200 [==============================] - 4s 20ms/step - loss: 0.0973 - accuracy: 0.5985 - val_loss: 0.0938 - val_accuracy: 0.6225 - lr: 1.0000e-04\n",
            "Epoch 24/100\n",
            "200/200 [==============================] - 4s 21ms/step - loss: 0.0973 - accuracy: 0.5962 - val_loss: 0.0939 - val_accuracy: 0.6212 - lr: 1.0000e-04\n",
            "Epoch 25/100\n",
            "200/200 [==============================] - 2s 11ms/step - loss: 0.0971 - accuracy: 0.6001 - val_loss: 0.0937 - val_accuracy: 0.6263 - lr: 1.0000e-04\n",
            "Epoch 26/100\n",
            "200/200 [==============================] - 2s 11ms/step - loss: 0.0970 - accuracy: 0.5999 - val_loss: 0.0936 - val_accuracy: 0.6225 - lr: 1.0000e-04\n",
            "Epoch 27/100\n",
            "200/200 [==============================] - 3s 13ms/step - loss: 0.0969 - accuracy: 0.5982 - val_loss: 0.0942 - val_accuracy: 0.6231 - lr: 1.0000e-04\n"
          ]
        },
        {
          "output_type": "display_data",
          "data": {
            "text/plain": [
              "VBox(children=(Label(value='0.001 MB of 0.015 MB uploaded\\r'), FloatProgress(value=0.08134816753926702, max=1.…"
            ],
            "application/vnd.jupyter.widget-view+json": {
              "version_major": 2,
              "version_minor": 0,
              "model_id": "572b10d4b3344a888f9dca6ec7689870"
            }
          },
          "metadata": {}
        },
        {
          "output_type": "display_data",
          "data": {
            "text/plain": [
              "<IPython.core.display.HTML object>"
            ],
            "text/html": [
              "<style>\n",
              "    table.wandb td:nth-child(1) { padding: 0 10px; text-align: left ; width: auto;} td:nth-child(2) {text-align: left ; width: 100%}\n",
              "    .wandb-row { display: flex; flex-direction: row; flex-wrap: wrap; justify-content: flex-start; width: 100% }\n",
              "    .wandb-col { display: flex; flex-direction: column; flex-basis: 100%; flex: 1; padding: 10px; }\n",
              "    </style>\n",
              "<div class=\"wandb-row\"><div class=\"wandb-col\"><h3>Run history:</h3><br/><table class=\"wandb\"><tr><td>batch/accuracy</td><td>▁▃▅▃▃▄▄▄▄▃▄▄▄▁▃█▆▆▆▆▇▆█▇▆▇▆▆▆▆▇▆▇▇▅▆▇▇▇▇</td></tr><tr><td>batch/batch_step</td><td>▁▁▁▂▂▂▂▂▂▃▃▃▃▃▃▄▄▄▄▄▅▅▅▅▅▅▆▆▆▆▆▇▇▇▇▇▇███</td></tr><tr><td>batch/learning_rate</td><td>█████████████▂▂▂▂▂▂▁▁▁▁▁▁▁▁▁▁▁▁▁▁▁▁▁▁▁▁▁</td></tr><tr><td>batch/loss</td><td>█▅▂▂▂▂▂▂▂▂▂▂▂▁▁▁▁▁▁▁▁▁▁▁▁▁▁▁▁▁▁▁▁▁▁▁▁▁▁▁</td></tr><tr><td>epoch/accuracy</td><td>▁▃▃▃▃▃▃▃▃▄▇▆▇█▇██▇█▇███▇██▇</td></tr><tr><td>epoch/epoch</td><td>▁▁▂▂▂▂▃▃▃▃▄▄▄▅▅▅▅▆▆▆▆▇▇▇▇██</td></tr><tr><td>epoch/learning_rate</td><td>████████▂▂▂▂▁▁▁▁▁▁▁▁▁▁▁▁▁▁▁</td></tr><tr><td>epoch/loss</td><td>█▃▃▃▃▃▃▃▃▁▁▁▁▁▁▁▁▁▁▁▁▁▁▁▁▁▁</td></tr><tr><td>epoch/lr</td><td>█████████▂▂▂▂▁▁▁▁▁▁▁▁▁▁▁▁▁▁</td></tr><tr><td>epoch/val_accuracy</td><td>▁▁▁▁▁▁▁▄▁▆▇▇▇▇▇███▇█▇██▇███</td></tr><tr><td>epoch/val_loss</td><td>▇██▇█▇██▇▂▂▂▂▁▁▁▁▁▁▁▁▁▁▁▁▁▁</td></tr></table><br/></div><div class=\"wandb-col\"><h3>Run summary:</h3><br/><table class=\"wandb\"><tr><td>batch/accuracy</td><td>0.60062</td></tr><tr><td>batch/batch_step</td><td>5390</td></tr><tr><td>batch/learning_rate</td><td>0.0001</td></tr><tr><td>batch/loss</td><td>0.0967</td></tr><tr><td>epoch/accuracy</td><td>0.59822</td></tr><tr><td>epoch/epoch</td><td>26</td></tr><tr><td>epoch/learning_rate</td><td>0.0001</td></tr><tr><td>epoch/loss</td><td>0.09694</td></tr><tr><td>epoch/lr</td><td>0.0001</td></tr><tr><td>epoch/val_accuracy</td><td>0.62313</td></tr><tr><td>epoch/val_loss</td><td>0.0942</td></tr></table><br/></div></div>"
            ]
          },
          "metadata": {}
        },
        {
          "output_type": "display_data",
          "data": {
            "text/plain": [
              "<IPython.core.display.HTML object>"
            ],
            "text/html": [
              " View run <strong style=\"color:#cdcd00\">morning-smoke-9</strong> at: <a href='https://wandb.ai/existence/GiBots-finetune/runs/7h0oi9ty' target=\"_blank\">https://wandb.ai/existence/GiBots-finetune/runs/7h0oi9ty</a><br/>Synced 5 W&B file(s), 0 media file(s), 0 artifact file(s) and 0 other file(s)"
            ]
          },
          "metadata": {}
        },
        {
          "output_type": "display_data",
          "data": {
            "text/plain": [
              "<IPython.core.display.HTML object>"
            ],
            "text/html": [
              "Find logs at: <code>./wandb/run-20240110_151245-7h0oi9ty/logs</code>"
            ]
          },
          "metadata": {}
        }
      ]
    },
    {
      "cell_type": "markdown",
      "source": [],
      "metadata": {
        "id": "8wIGmcPr7aAH"
      }
    },
    {
      "cell_type": "markdown",
      "source": [
        "## To View Training Dashboard click on below link:\n",
        "https://wandb.ai/existence/GiBots-finetune"
      ],
      "metadata": {
        "id": "3AZIMht70s2s"
      }
    },
    {
      "cell_type": "code",
      "source": [
        "prep_test_data = preprocessor.transform(test_data)\n",
        "prep_test_data.shape"
      ],
      "metadata": {
        "colab": {
          "base_uri": "https://localhost:8080/"
        },
        "id": "AtXt2h3BqJF9",
        "outputId": "69a2125b-f640-4758-abee-93397af3655f"
      },
      "execution_count": 47,
      "outputs": [
        {
          "output_type": "execute_result",
          "data": {
            "text/plain": [
              "(1999, 29067)"
            ]
          },
          "metadata": {},
          "execution_count": 47
        }
      ]
    },
    {
      "cell_type": "code",
      "source": [
        "import seaborn as sns\n",
        "preds = model.predict(prep_test_data)\n",
        "prep_sub_ids = [str(int(num)) + '_y' + str(int(i)) for num in test_data.id for i in range(1, 34)]\n",
        "flatten_pred_list = preds.flatten()\n",
        "new_arr = [1 if i>=0.5 else 0 for i in flatten_pred_list]\n",
        "\n",
        "# sns.distplot(flatten_pred_list)\n",
        "sns.histplot(new_arr)"
      ],
      "metadata": {
        "colab": {
          "base_uri": "https://localhost:8080/",
          "height": 465
        },
        "id": "QQQsJx1P2dA9",
        "outputId": "b231261d-e5c2-42f5-82a5-1fa471e1e69c"
      },
      "execution_count": 48,
      "outputs": [
        {
          "output_type": "stream",
          "name": "stdout",
          "text": [
            "63/63 [==============================] - 59s 3ms/step\n"
          ]
        },
        {
          "output_type": "execute_result",
          "data": {
            "text/plain": [
              "<Axes: ylabel='Count'>"
            ]
          },
          "metadata": {},
          "execution_count": 48
        },
        {
          "output_type": "display_data",
          "data": {
            "text/plain": [
              "<Figure size 640x480 with 1 Axes>"
            ],
            "image/png": "[encoded data removed]"
          },
          "metadata": {}
        }
      ]
    },
    {
      "cell_type": "code",
      "source": [
        "sns.distplot(new_arr)"
      ],
      "metadata": {
        "colab": {
          "base_uri": "https://localhost:8080/",
          "height": 447
        },
        "id": "kkFDudb67wWA",
        "outputId": "c2584b42-4c65-4d18-a269-6b2658a8f431"
      },
      "execution_count": 49,
      "outputs": [
        {
          "output_type": "execute_result",
          "data": {
            "text/plain": [
              "<Axes: ylabel='Density'>"
            ]
          },
          "metadata": {},
          "execution_count": 49
        },
        {
          "output_type": "display_data",
          "data": {
            "text/plain": [
              "<Figure size 640x480 with 1 Axes>"
            ],
            "image/png": "[encoded data removed]"
          },
          "metadata": {}
        }
      ]
    },
    {
      "cell_type": "code",
      "source": [
        "sns.distplot(flatten_pred_list)"
      ],
      "metadata": {
        "colab": {
          "base_uri": "https://localhost:8080/",
          "height": 447
        },
        "id": "iKmmLpbO7zQv",
        "outputId": "f70447ff-5f74-40a8-9517-97dfe9c0947b"
      },
      "execution_count": 50,
      "outputs": [
        {
          "output_type": "execute_result",
          "data": {
            "text/plain": [
              "<Axes: ylabel='Density'>"
            ]
          },
          "metadata": {},
          "execution_count": 50
        },
        {
          "output_type": "display_data",
          "data": {
            "text/plain": [
              "<Figure size 640x480 with 1 Axes>"
            ],
            "image/png": "[encoded data removed]"
          },
          "metadata": {}
        }
      ]
    },
    {
      "cell_type": "code",
      "source": [
        "submission_df = pd.DataFrame([prep_sub_ids,new_arr]).T\n",
        "submission_df.columns = [\"id\",\"pred\"]\n",
        "# submission_df.head()\n",
        "\n",
        "submission_df.to_csv(\"NN_model_submission_file_v3.csv\",index=False)"
      ],
      "metadata": {
        "id": "rl9AVRcfAASV"
      },
      "execution_count": 52,
      "outputs": []
    }
  ],
  "metadata": {
    "colab": {
      "provenance": [],
      "gpuType": "T4",
      "mount_file_id": "18axhI0wxejccc8ogLYmQYTCa2jgpIH-L",
      "authorship_tag": "ABX9TyOywHIoD0WnI3WsgLGi7bs3",
      "include_colab_link": true
    },
    "kernelspec": {
      "display_name": "Python 3",
      "name": "python3"
    },
    "language_info": {
      "name": "python"
    },
    "accelerator": "GPU",
    "widgets": {
      "application/vnd.jupyter.widget-state+json": {
        "572b10d4b3344a888f9dca6ec7689870": {
          "model_module": "@jupyter-widgets/controls",
          "model_name": "VBoxModel",
          "model_module_version": "1.5.0",
          "state": {
            "_dom_classes": [],
            "_model_module": "@jupyter-widgets/controls",
            "_model_module_version": "1.5.0",
            "_model_name": "VBoxModel",
            "_view_count": null,
            "_view_module": "@jupyter-widgets/controls",
            "_view_module_version": "1.5.0",
            "_view_name": "VBoxView",
            "box_style": "",
            "children": [
              "IPY_MODEL_7b09c278063f4c9ba8e70c2d0551454b",
              "IPY_MODEL_3f86382a90764cd88a3c932f111e8ab6"
            ],
            "layout": "IPY_MODEL_3b6c7bdc09fe45ebbd1c8b98ad4bfa2a"
          }
        },
        "7b09c278063f4c9ba8e70c2d0551454b": {
          "model_module": "@jupyter-widgets/controls",
          "model_name": "LabelModel",
          "model_module_version": "1.5.0",
          "state": {
            "_dom_classes": [],
            "_model_module": "@jupyter-widgets/controls",
            "_model_module_version": "1.5.0",
            "_model_name": "LabelModel",
            "_view_count": null,
            "_view_module": "@jupyter-widgets/controls",
            "_view_module_version": "1.5.0",
            "_view_name": "LabelView",
            "description": "",
            "description_tooltip": null,
            "layout": "IPY_MODEL_bae3b4845eed485bb8d3abca87c835d2",
            "placeholder": "​",
            "style": "IPY_MODEL_bd796905b1e04b7cb0d75f803c86023f",
            "value": "0.015 MB of 0.015 MB uploaded\r"
          }
        },
        "3f86382a90764cd88a3c932f111e8ab6": {
          "model_module": "@jupyter-widgets/controls",
          "model_name": "FloatProgressModel",
          "model_module_version": "1.5.0",
          "state": {
            "_dom_classes": [],
            "_model_module": "@jupyter-widgets/controls",
            "_model_module_version": "1.5.0",
            "_model_name": "FloatProgressModel",
            "_view_count": null,
            "_view_module": "@jupyter-widgets/controls",
            "_view_module_version": "1.5.0",
            "_view_name": "ProgressView",
            "bar_style": "",
            "description": "",
            "description_tooltip": null,
            "layout": "IPY_MODEL_994b40388fdf485b9ab69495fa765a7d",
            "max": 1,
            "min": 0,
            "orientation": "horizontal",
            "style": "IPY_MODEL_58367a160b72474a880c1fd2af3bf452",
            "value": 1
          }
        },
        "3b6c7bdc09fe45ebbd1c8b98ad4bfa2a": {
          "model_module": "@jupyter-widgets/base",
          "model_name": "LayoutModel",
          "model_module_version": "1.2.0",
          "state": {
            "_model_module": "@jupyter-widgets/base",
            "_model_module_version": "1.2.0",
            "_model_name": "LayoutModel",
            "_view_count": null,
            "_view_module": "@jupyter-widgets/base",
            "_view_module_version": "1.2.0",
            "_view_name": "LayoutView",
            "align_content": null,
            "align_items": null,
            "align_self": null,
            "border": null,
            "bottom": null,
            "display": null,
            "flex": null,
            "flex_flow": null,
            "grid_area": null,
            "grid_auto_columns": null,
            "grid_auto_flow": null,
            "grid_auto_rows": null,
            "grid_column": null,
            "grid_gap": null,
            "grid_row": null,
            "grid_template_areas": null,
            "grid_template_columns": null,
            "grid_template_rows": null,
            "height": null,
            "justify_content": null,
            "justify_items": null,
            "left": null,
            "margin": null,
            "max_height": null,
            "max_width": null,
            "min_height": null,
            "min_width": null,
            "object_fit": null,
            "object_position": null,
            "order": null,
            "overflow": null,
            "overflow_x": null,
            "overflow_y": null,
            "padding": null,
            "right": null,
            "top": null,
            "visibility": null,
            "width": null
          }
        },
        "bae3b4845eed485bb8d3abca87c835d2": {
          "model_module": "@jupyter-widgets/base",
          "model_name": "LayoutModel",
          "model_module_version": "1.2.0",
          "state": {
            "_model_module": "@jupyter-widgets/base",
            "_model_module_version": "1.2.0",
            "_model_name": "LayoutModel",
            "_view_count": null,
            "_view_module": "@jupyter-widgets/base",
            "_view_module_version": "1.2.0",
            "_view_name": "LayoutView",
            "align_content": null,
            "align_items": null,
            "align_self": null,
            "border": null,
            "bottom": null,
            "display": null,
            "flex": null,
            "flex_flow": null,
            "grid_area": null,
            "grid_auto_columns": null,
            "grid_auto_flow": null,
            "grid_auto_rows": null,
            "grid_column": null,
            "grid_gap": null,
            "grid_row": null,
            "grid_template_areas": null,
            "grid_template_columns": null,
            "grid_template_rows": null,
            "height": null,
            "justify_content": null,
            "justify_items": null,
            "left": null,
            "margin": null,
            "max_height": null,
            "max_width": null,
            "min_height": null,
            "min_width": null,
            "object_fit": null,
            "object_position": null,
            "order": null,
            "overflow": null,
            "overflow_x": null,
            "overflow_y": null,
            "padding": null,
            "right": null,
            "top": null,
            "visibility": null,
            "width": null
          }
        },
        "bd796905b1e04b7cb0d75f803c86023f": {
          "model_module": "@jupyter-widgets/controls",
          "model_name": "DescriptionStyleModel",
          "model_module_version": "1.5.0",
          "state": {
            "_model_module": "@jupyter-widgets/controls",
            "_model_module_version": "1.5.0",
            "_model_name": "DescriptionStyleModel",
            "_view_count": null,
            "_view_module": "@jupyter-widgets/base",
            "_view_module_version": "1.2.0",
            "_view_name": "StyleView",
            "description_width": ""
          }
        },
        "994b40388fdf485b9ab69495fa765a7d": {
          "model_module": "@jupyter-widgets/base",
          "model_name": "LayoutModel",
          "model_module_version": "1.2.0",
          "state": {
            "_model_module": "@jupyter-widgets/base",
            "_model_module_version": "1.2.0",
            "_model_name": "LayoutModel",
            "_view_count": null,
            "_view_module": "@jupyter-widgets/base",
            "_view_module_version": "1.2.0",
            "_view_name": "LayoutView",
            "align_content": null,
            "align_items": null,
            "align_self": null,
            "border": null,
            "bottom": null,
            "display": null,
            "flex": null,
            "flex_flow": null,
            "grid_area": null,
            "grid_auto_columns": null,
            "grid_auto_flow": null,
            "grid_auto_rows": null,
            "grid_column": null,
            "grid_gap": null,
            "grid_row": null,
            "grid_template_areas": null,
            "grid_template_columns": null,
            "grid_template_rows": null,
            "height": null,
            "justify_content": null,
            "justify_items": null,
            "left": null,
            "margin": null,
            "max_height": null,
            "max_width": null,
            "min_height": null,
            "min_width": null,
            "object_fit": null,
            "object_position": null,
            "order": null,
            "overflow": null,
            "overflow_x": null,
            "overflow_y": null,
            "padding": null,
            "right": null,
            "top": null,
            "visibility": null,
            "width": null
          }
        },
        "58367a160b72474a880c1fd2af3bf452": {
          "model_module": "@jupyter-widgets/controls",
          "model_name": "ProgressStyleModel",
          "model_module_version": "1.5.0",
          "state": {
            "_model_module": "@jupyter-widgets/controls",
            "_model_module_version": "1.5.0",
            "_model_name": "ProgressStyleModel",
            "_view_count": null,
            "_view_module": "@jupyter-widgets/base",
            "_view_module_version": "1.2.0",
            "_view_name": "StyleView",
            "bar_color": null,
            "description_width": ""
          }
        }
      }
    }
  },
  "nbformat": 4,
  "nbformat_minor": 0
}